{
 "cells": [
  {
   "cell_type": "code",
   "execution_count": 2,
   "id": "a7bef88e",
   "metadata": {
    "ExecuteTime": {
     "end_time": "2022-07-11T13:13:42.623424Z",
     "start_time": "2022-07-11T13:13:41.798959Z"
    }
   },
   "outputs": [],
   "source": [
    "import pandas as pd"
   ]
  },
  {
   "cell_type": "code",
   "execution_count": 3,
   "id": "0cdcf526",
   "metadata": {
    "ExecuteTime": {
     "end_time": "2022-07-11T13:13:42.638911Z",
     "start_time": "2022-07-11T13:13:42.624369Z"
    }
   },
   "outputs": [
    {
     "data": {
      "text/html": [
       "\n",
       "            <div>\n",
       "                <p><b>SparkSession - hive</b></p>\n",
       "                \n",
       "        <div>\n",
       "            <p><b>SparkContext</b></p>\n",
       "\n",
       "            <p><a href=\"http://host.docker.internal:4040\">Spark UI</a></p>\n",
       "\n",
       "            <dl>\n",
       "              <dt>Version</dt>\n",
       "                <dd><code>v3.2.1</code></dd>\n",
       "              <dt>Master</dt>\n",
       "                <dd><code>local[*]</code></dd>\n",
       "              <dt>AppName</dt>\n",
       "                <dd><code>PySparkShell</code></dd>\n",
       "            </dl>\n",
       "        </div>\n",
       "        \n",
       "            </div>\n",
       "        "
      ],
      "text/plain": [
       "<pyspark.sql.session.SparkSession at 0x1fb84845940>"
      ]
     },
     "execution_count": 3,
     "metadata": {},
     "output_type": "execute_result"
    }
   ],
   "source": [
    "spark"
   ]
  },
  {
   "cell_type": "markdown",
   "id": "e129e10d",
   "metadata": {
    "ExecuteTime": {
     "end_time": "2022-07-11T13:13:36.742983Z",
     "start_time": "2022-07-11T13:13:36.727225Z"
    }
   },
   "source": [
    "## Write dummy data"
   ]
  },
  {
   "cell_type": "code",
   "execution_count": 4,
   "id": "43774057",
   "metadata": {
    "ExecuteTime": {
     "end_time": "2022-07-11T13:13:44.332562Z",
     "start_time": "2022-07-11T13:13:42.639835Z"
    },
    "scrolled": false
   },
   "outputs": [],
   "source": [
    "pdf = pd.DataFrame({'a' : [x for x in range(10)]})\n",
    "df = spark.createDataFrame(pdf)"
   ]
  },
  {
   "cell_type": "code",
   "execution_count": 5,
   "id": "08cc7729",
   "metadata": {
    "ExecuteTime": {
     "end_time": "2022-07-11T13:13:58.935498Z",
     "start_time": "2022-07-11T13:13:44.334484Z"
    },
    "scrolled": false
   },
   "outputs": [],
   "source": [
    "df.repartition(4).write.format('delta').save('./datasets/test.delta', mode = 'overwrite')"
   ]
  },
  {
   "cell_type": "code",
   "execution_count": 6,
   "id": "0d0f4d8b",
   "metadata": {
    "ExecuteTime": {
     "end_time": "2022-07-11T13:13:58.982536Z",
     "start_time": "2022-07-11T13:13:58.938004Z"
    }
   },
   "outputs": [],
   "source": [
    "pdf = pd.DataFrame({'a' : [x for x in range(1_000)]})\n",
    "df = spark.createDataFrame(pdf)"
   ]
  },
  {
   "cell_type": "code",
   "execution_count": 7,
   "id": "6d1fc412",
   "metadata": {
    "ExecuteTime": {
     "end_time": "2022-07-11T13:14:09.137073Z",
     "start_time": "2022-07-11T13:13:58.983752Z"
    }
   },
   "outputs": [],
   "source": [
    "df.repartition(4).write.format('delta').save('./datasets/test.delta', mode = 'overwrite')"
   ]
  },
  {
   "cell_type": "markdown",
   "id": "44f23558",
   "metadata": {},
   "source": [
    "## Check delta time travel"
   ]
  },
  {
   "cell_type": "code",
   "execution_count": 8,
   "id": "eb00962a",
   "metadata": {
    "ExecuteTime": {
     "end_time": "2022-07-11T13:14:09.152488Z",
     "start_time": "2022-07-11T13:14:09.139075Z"
    }
   },
   "outputs": [],
   "source": [
    "import delta"
   ]
  },
  {
   "cell_type": "code",
   "execution_count": 9,
   "id": "00ce8bba",
   "metadata": {
    "ExecuteTime": {
     "end_time": "2022-07-11T13:14:09.198701Z",
     "start_time": "2022-07-11T13:14:09.153482Z"
    }
   },
   "outputs": [],
   "source": [
    "dt = delta.DeltaTable.forPath(spark, path='./datasets/test.delta/')"
   ]
  },
  {
   "cell_type": "code",
   "execution_count": 10,
   "id": "3c7dc4e1",
   "metadata": {
    "ExecuteTime": {
     "end_time": "2022-07-11T13:14:11.552819Z",
     "start_time": "2022-07-11T13:14:09.200772Z"
    }
   },
   "outputs": [
    {
     "data": {
      "text/html": [
       "<div>\n",
       "<style scoped>\n",
       "    .dataframe tbody tr th:only-of-type {\n",
       "        vertical-align: middle;\n",
       "    }\n",
       "\n",
       "    .dataframe tbody tr th {\n",
       "        vertical-align: top;\n",
       "    }\n",
       "\n",
       "    .dataframe thead th {\n",
       "        text-align: right;\n",
       "    }\n",
       "</style>\n",
       "<table border=\"1\" class=\"dataframe\">\n",
       "  <thead>\n",
       "    <tr style=\"text-align: right;\">\n",
       "      <th></th>\n",
       "      <th>version</th>\n",
       "      <th>timestamp</th>\n",
       "      <th>userId</th>\n",
       "      <th>userName</th>\n",
       "      <th>operation</th>\n",
       "      <th>operationParameters</th>\n",
       "      <th>job</th>\n",
       "      <th>notebook</th>\n",
       "      <th>clusterId</th>\n",
       "      <th>readVersion</th>\n",
       "      <th>isolationLevel</th>\n",
       "      <th>isBlindAppend</th>\n",
       "      <th>operationMetrics</th>\n",
       "      <th>userMetadata</th>\n",
       "      <th>engineInfo</th>\n",
       "    </tr>\n",
       "  </thead>\n",
       "  <tbody>\n",
       "    <tr>\n",
       "      <th>0</th>\n",
       "      <td>3</td>\n",
       "      <td>2022-07-11 15:14:07.374</td>\n",
       "      <td>None</td>\n",
       "      <td>None</td>\n",
       "      <td>WRITE</td>\n",
       "      <td>{'mode': 'Overwrite', 'partitionBy': '[]'}</td>\n",
       "      <td>None</td>\n",
       "      <td>None</td>\n",
       "      <td>None</td>\n",
       "      <td>2.0</td>\n",
       "      <td>Serializable</td>\n",
       "      <td>False</td>\n",
       "      <td>{'numOutputRows': '1000', 'numOutputBytes': '5...</td>\n",
       "      <td>None</td>\n",
       "      <td>Apache-Spark/3.2.1 Delta-Lake/1.2.1</td>\n",
       "    </tr>\n",
       "    <tr>\n",
       "      <th>1</th>\n",
       "      <td>2</td>\n",
       "      <td>2022-07-11 15:13:57.421</td>\n",
       "      <td>None</td>\n",
       "      <td>None</td>\n",
       "      <td>WRITE</td>\n",
       "      <td>{'mode': 'Overwrite', 'partitionBy': '[]'}</td>\n",
       "      <td>None</td>\n",
       "      <td>None</td>\n",
       "      <td>None</td>\n",
       "      <td>1.0</td>\n",
       "      <td>Serializable</td>\n",
       "      <td>False</td>\n",
       "      <td>{'numOutputRows': '10', 'numOutputBytes': '830...</td>\n",
       "      <td>None</td>\n",
       "      <td>Apache-Spark/3.2.1 Delta-Lake/1.2.1</td>\n",
       "    </tr>\n",
       "    <tr>\n",
       "      <th>2</th>\n",
       "      <td>1</td>\n",
       "      <td>2022-07-11 13:55:55.164</td>\n",
       "      <td>None</td>\n",
       "      <td>None</td>\n",
       "      <td>WRITE</td>\n",
       "      <td>{'mode': 'Overwrite', 'partitionBy': '[]'}</td>\n",
       "      <td>None</td>\n",
       "      <td>None</td>\n",
       "      <td>None</td>\n",
       "      <td>0.0</td>\n",
       "      <td>Serializable</td>\n",
       "      <td>False</td>\n",
       "      <td>{'numOutputRows': '1000', 'numOutputBytes': '5...</td>\n",
       "      <td>None</td>\n",
       "      <td>Apache-Spark/3.2.1 Delta-Lake/1.2.1</td>\n",
       "    </tr>\n",
       "    <tr>\n",
       "      <th>3</th>\n",
       "      <td>0</td>\n",
       "      <td>2022-07-11 13:48:50.411</td>\n",
       "      <td>None</td>\n",
       "      <td>None</td>\n",
       "      <td>WRITE</td>\n",
       "      <td>{'mode': 'ErrorIfExists', 'partitionBy': '[]'}</td>\n",
       "      <td>None</td>\n",
       "      <td>None</td>\n",
       "      <td>None</td>\n",
       "      <td>NaN</td>\n",
       "      <td>Serializable</td>\n",
       "      <td>True</td>\n",
       "      <td>{'numOutputRows': '100', 'numOutputBytes': '23...</td>\n",
       "      <td>None</td>\n",
       "      <td>Apache-Spark/3.2.1 Delta-Lake/1.2.1</td>\n",
       "    </tr>\n",
       "  </tbody>\n",
       "</table>\n",
       "</div>"
      ],
      "text/plain": [
       "   version               timestamp userId userName operation  \\\n",
       "0        3 2022-07-11 15:14:07.374   None     None     WRITE   \n",
       "1        2 2022-07-11 15:13:57.421   None     None     WRITE   \n",
       "2        1 2022-07-11 13:55:55.164   None     None     WRITE   \n",
       "3        0 2022-07-11 13:48:50.411   None     None     WRITE   \n",
       "\n",
       "                              operationParameters   job notebook clusterId  \\\n",
       "0      {'mode': 'Overwrite', 'partitionBy': '[]'}  None     None      None   \n",
       "1      {'mode': 'Overwrite', 'partitionBy': '[]'}  None     None      None   \n",
       "2      {'mode': 'Overwrite', 'partitionBy': '[]'}  None     None      None   \n",
       "3  {'mode': 'ErrorIfExists', 'partitionBy': '[]'}  None     None      None   \n",
       "\n",
       "   readVersion isolationLevel  isBlindAppend  \\\n",
       "0          2.0   Serializable          False   \n",
       "1          1.0   Serializable          False   \n",
       "2          0.0   Serializable          False   \n",
       "3          NaN   Serializable           True   \n",
       "\n",
       "                                    operationMetrics userMetadata  \\\n",
       "0  {'numOutputRows': '1000', 'numOutputBytes': '5...         None   \n",
       "1  {'numOutputRows': '10', 'numOutputBytes': '830...         None   \n",
       "2  {'numOutputRows': '1000', 'numOutputBytes': '5...         None   \n",
       "3  {'numOutputRows': '100', 'numOutputBytes': '23...         None   \n",
       "\n",
       "                            engineInfo  \n",
       "0  Apache-Spark/3.2.1 Delta-Lake/1.2.1  \n",
       "1  Apache-Spark/3.2.1 Delta-Lake/1.2.1  \n",
       "2  Apache-Spark/3.2.1 Delta-Lake/1.2.1  \n",
       "3  Apache-Spark/3.2.1 Delta-Lake/1.2.1  "
      ]
     },
     "execution_count": 10,
     "metadata": {},
     "output_type": "execute_result"
    }
   ],
   "source": [
    "dt.history().toPandas()"
   ]
  },
  {
   "cell_type": "code",
   "execution_count": 11,
   "id": "3fc5e612",
   "metadata": {
    "ExecuteTime": {
     "end_time": "2022-07-11T13:14:13.293337Z",
     "start_time": "2022-07-11T13:14:11.555337Z"
    }
   },
   "outputs": [
    {
     "data": {
      "text/html": [
       "<div>\n",
       "<style scoped>\n",
       "    .dataframe tbody tr th:only-of-type {\n",
       "        vertical-align: middle;\n",
       "    }\n",
       "\n",
       "    .dataframe tbody tr th {\n",
       "        vertical-align: top;\n",
       "    }\n",
       "\n",
       "    .dataframe thead th {\n",
       "        text-align: right;\n",
       "    }\n",
       "</style>\n",
       "<table border=\"1\" class=\"dataframe\">\n",
       "  <thead>\n",
       "    <tr style=\"text-align: right;\">\n",
       "      <th></th>\n",
       "      <th>a</th>\n",
       "    </tr>\n",
       "  </thead>\n",
       "  <tbody>\n",
       "    <tr>\n",
       "      <th>0</th>\n",
       "      <td>19</td>\n",
       "    </tr>\n",
       "    <tr>\n",
       "      <th>1</th>\n",
       "      <td>43</td>\n",
       "    </tr>\n",
       "    <tr>\n",
       "      <th>2</th>\n",
       "      <td>60</td>\n",
       "    </tr>\n",
       "    <tr>\n",
       "      <th>3</th>\n",
       "      <td>46</td>\n",
       "    </tr>\n",
       "    <tr>\n",
       "      <th>4</th>\n",
       "      <td>38</td>\n",
       "    </tr>\n",
       "    <tr>\n",
       "      <th>...</th>\n",
       "      <td>...</td>\n",
       "    </tr>\n",
       "    <tr>\n",
       "      <th>995</th>\n",
       "      <td>940</td>\n",
       "    </tr>\n",
       "    <tr>\n",
       "      <th>996</th>\n",
       "      <td>934</td>\n",
       "    </tr>\n",
       "    <tr>\n",
       "      <th>997</th>\n",
       "      <td>951</td>\n",
       "    </tr>\n",
       "    <tr>\n",
       "      <th>998</th>\n",
       "      <td>971</td>\n",
       "    </tr>\n",
       "    <tr>\n",
       "      <th>999</th>\n",
       "      <td>989</td>\n",
       "    </tr>\n",
       "  </tbody>\n",
       "</table>\n",
       "<p>1000 rows × 1 columns</p>\n",
       "</div>"
      ],
      "text/plain": [
       "       a\n",
       "0     19\n",
       "1     43\n",
       "2     60\n",
       "3     46\n",
       "4     38\n",
       "..   ...\n",
       "995  940\n",
       "996  934\n",
       "997  951\n",
       "998  971\n",
       "999  989\n",
       "\n",
       "[1000 rows x 1 columns]"
      ]
     },
     "execution_count": 11,
     "metadata": {},
     "output_type": "execute_result"
    }
   ],
   "source": [
    "(\n",
    "    spark\n",
    "    .read\n",
    "    .format('delta')\n",
    "    .option('versionAsOf', 1)\n",
    "    .load('./datasets/test.delta/').toPandas()\n",
    ")"
   ]
  }
 ],
 "metadata": {
  "kernelspec": {
   "display_name": "Python 3 (ipykernel)",
   "language": "python",
   "name": "python3"
  },
  "language_info": {
   "codemirror_mode": {
    "name": "ipython",
    "version": 3
   },
   "file_extension": ".py",
   "mimetype": "text/x-python",
   "name": "python",
   "nbconvert_exporter": "python",
   "pygments_lexer": "ipython3",
   "version": "3.9.12"
  },
  "toc": {
   "base_numbering": 1,
   "nav_menu": {},
   "number_sections": true,
   "sideBar": true,
   "skip_h1_title": false,
   "title_cell": "Table of Contents",
   "title_sidebar": "Contents",
   "toc_cell": false,
   "toc_position": {},
   "toc_section_display": true,
   "toc_window_display": false
  },
  "varInspector": {
   "cols": {
    "lenName": 16,
    "lenType": 16,
    "lenVar": 40
   },
   "kernels_config": {
    "python": {
     "delete_cmd_postfix": "",
     "delete_cmd_prefix": "del ",
     "library": "var_list.py",
     "varRefreshCmd": "print(var_dic_list())"
    },
    "r": {
     "delete_cmd_postfix": ") ",
     "delete_cmd_prefix": "rm(",
     "library": "var_list.r",
     "varRefreshCmd": "cat(var_dic_list()) "
    }
   },
   "types_to_exclude": [
    "module",
    "function",
    "builtin_function_or_method",
    "instance",
    "_Feature"
   ],
   "window_display": false
  }
 },
 "nbformat": 4,
 "nbformat_minor": 5
}
